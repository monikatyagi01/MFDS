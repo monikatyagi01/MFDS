{
 "cells": [
  {
   "cell_type": "code",
   "execution_count": 7,
   "id": "b671ca1d-3d0a-43ae-a827-2d63b30fe7fd",
   "metadata": {},
   "outputs": [],
   "source": [
    "import pandas as pd\n",
    "import matplotlib as plt"
   ]
  },
  {
   "cell_type": "code",
   "execution_count": 9,
   "id": "617b53af-f224-44b0-9766-e5462958dccb",
   "metadata": {},
   "outputs": [
    {
     "data": {
      "text/html": [
       "<div>\n",
       "<style scoped>\n",
       "    .dataframe tbody tr th:only-of-type {\n",
       "        vertical-align: middle;\n",
       "    }\n",
       "\n",
       "    .dataframe tbody tr th {\n",
       "        vertical-align: top;\n",
       "    }\n",
       "\n",
       "    .dataframe thead th {\n",
       "        text-align: right;\n",
       "    }\n",
       "</style>\n",
       "<table border=\"1\" class=\"dataframe\">\n",
       "  <thead>\n",
       "    <tr style=\"text-align: right;\">\n",
       "      <th></th>\n",
       "      <th>age_group</th>\n",
       "      <th>place_overall</th>\n",
       "      <th>place_gender</th>\n",
       "      <th>place_division</th>\n",
       "      <th>name</th>\n",
       "      <th>team</th>\n",
       "      <th>bib_number</th>\n",
       "      <th>half_time</th>\n",
       "      <th>finish_net</th>\n",
       "      <th>finish_gun</th>\n",
       "      <th>gender</th>\n",
       "      <th>half_time_sec</th>\n",
       "      <th>finish_net_sec</th>\n",
       "      <th>finish_gun_sec</th>\n",
       "      <th>finish_net_minutes</th>\n",
       "    </tr>\n",
       "  </thead>\n",
       "  <tbody>\n",
       "    <tr>\n",
       "      <th>0</th>\n",
       "      <td>18-39</td>\n",
       "      <td>1</td>\n",
       "      <td>1</td>\n",
       "      <td>1</td>\n",
       "      <td>Chebet, Evans</td>\n",
       "      <td>Team–</td>\n",
       "      <td>1</td>\n",
       "      <td>1H 2M 20S</td>\n",
       "      <td>2H 5M 54S</td>\n",
       "      <td>2H 5M 54S</td>\n",
       "      <td>M</td>\n",
       "      <td>3740.0</td>\n",
       "      <td>7554</td>\n",
       "      <td>7554</td>\n",
       "      <td>125.900000</td>\n",
       "    </tr>\n",
       "    <tr>\n",
       "      <th>1</th>\n",
       "      <td>18-39</td>\n",
       "      <td>2</td>\n",
       "      <td>2</td>\n",
       "      <td>2</td>\n",
       "      <td>Geay, Gabriel</td>\n",
       "      <td>Team–</td>\n",
       "      <td>3</td>\n",
       "      <td>1H 2M 20S</td>\n",
       "      <td>2H 6M 4S</td>\n",
       "      <td>2H 6M 4S</td>\n",
       "      <td>M</td>\n",
       "      <td>3740.0</td>\n",
       "      <td>7564</td>\n",
       "      <td>7564</td>\n",
       "      <td>126.066667</td>\n",
       "    </tr>\n",
       "    <tr>\n",
       "      <th>2</th>\n",
       "      <td>18-39</td>\n",
       "      <td>3</td>\n",
       "      <td>3</td>\n",
       "      <td>3</td>\n",
       "      <td>Kipruto, Benson</td>\n",
       "      <td>Team–</td>\n",
       "      <td>5</td>\n",
       "      <td>1H 2M 19S</td>\n",
       "      <td>2H 6M 6S</td>\n",
       "      <td>2H 6M 6S</td>\n",
       "      <td>M</td>\n",
       "      <td>3739.0</td>\n",
       "      <td>7566</td>\n",
       "      <td>7566</td>\n",
       "      <td>126.100000</td>\n",
       "    </tr>\n",
       "    <tr>\n",
       "      <th>3</th>\n",
       "      <td>18-39</td>\n",
       "      <td>4</td>\n",
       "      <td>4</td>\n",
       "      <td>4</td>\n",
       "      <td>Korir, Albert</td>\n",
       "      <td>Team–</td>\n",
       "      <td>19</td>\n",
       "      <td>1H 2M 20S</td>\n",
       "      <td>2H 8M 1S</td>\n",
       "      <td>2H 8M 1S</td>\n",
       "      <td>M</td>\n",
       "      <td>3740.0</td>\n",
       "      <td>7681</td>\n",
       "      <td>7681</td>\n",
       "      <td>128.016667</td>\n",
       "    </tr>\n",
       "    <tr>\n",
       "      <th>4</th>\n",
       "      <td>18-39</td>\n",
       "      <td>5</td>\n",
       "      <td>5</td>\n",
       "      <td>5</td>\n",
       "      <td>Talbi, Zouhair</td>\n",
       "      <td>Team–</td>\n",
       "      <td>31</td>\n",
       "      <td>1H 2M 20S</td>\n",
       "      <td>2H 8M 35S</td>\n",
       "      <td>2H 8M 35S</td>\n",
       "      <td>M</td>\n",
       "      <td>3740.0</td>\n",
       "      <td>7715</td>\n",
       "      <td>7715</td>\n",
       "      <td>128.583333</td>\n",
       "    </tr>\n",
       "    <tr>\n",
       "      <th>...</th>\n",
       "      <td>...</td>\n",
       "      <td>...</td>\n",
       "      <td>...</td>\n",
       "      <td>...</td>\n",
       "      <td>...</td>\n",
       "      <td>...</td>\n",
       "      <td>...</td>\n",
       "      <td>...</td>\n",
       "      <td>...</td>\n",
       "      <td>...</td>\n",
       "      <td>...</td>\n",
       "      <td>...</td>\n",
       "      <td>...</td>\n",
       "      <td>...</td>\n",
       "      <td>...</td>\n",
       "    </tr>\n",
       "    <tr>\n",
       "      <th>26593</th>\n",
       "      <td>75-79</td>\n",
       "      <td>25856</td>\n",
       "      <td>10994</td>\n",
       "      <td>8</td>\n",
       "      <td>Bryan, T. J.</td>\n",
       "      <td>Team–</td>\n",
       "      <td>24573</td>\n",
       "      <td>2H 21M 27S</td>\n",
       "      <td>5H 28M 48S</td>\n",
       "      <td>5H 29M 29S</td>\n",
       "      <td>W</td>\n",
       "      <td>8487.0</td>\n",
       "      <td>19728</td>\n",
       "      <td>19769</td>\n",
       "      <td>328.800000</td>\n",
       "    </tr>\n",
       "    <tr>\n",
       "      <th>26594</th>\n",
       "      <td>75-79</td>\n",
       "      <td>26144</td>\n",
       "      <td>11158</td>\n",
       "      <td>9</td>\n",
       "      <td>Hung, Patty</td>\n",
       "      <td>Team–</td>\n",
       "      <td>15933</td>\n",
       "      <td>2H 37M 0S</td>\n",
       "      <td>5H 40M 37S</td>\n",
       "      <td>5H 40M 58S</td>\n",
       "      <td>W</td>\n",
       "      <td>9420.0</td>\n",
       "      <td>20437</td>\n",
       "      <td>20458</td>\n",
       "      <td>340.616667</td>\n",
       "    </tr>\n",
       "    <tr>\n",
       "      <th>26595</th>\n",
       "      <td>75-79</td>\n",
       "      <td>26203</td>\n",
       "      <td>11188</td>\n",
       "      <td>10</td>\n",
       "      <td>Tattersall, Theresa</td>\n",
       "      <td>Team–</td>\n",
       "      <td>24570</td>\n",
       "      <td>2H 41M 25S</td>\n",
       "      <td>5H 42M 59S</td>\n",
       "      <td>5H 46M 38S</td>\n",
       "      <td>W</td>\n",
       "      <td>9685.0</td>\n",
       "      <td>20579</td>\n",
       "      <td>20798</td>\n",
       "      <td>342.983333</td>\n",
       "    </tr>\n",
       "    <tr>\n",
       "      <th>26596</th>\n",
       "      <td>80+</td>\n",
       "      <td>25010</td>\n",
       "      <td>10544</td>\n",
       "      <td>1</td>\n",
       "      <td>Sabourin, Helen</td>\n",
       "      <td>Team–</td>\n",
       "      <td>24569</td>\n",
       "      <td>2H 31M 18S</td>\n",
       "      <td>5H 4M 6S</td>\n",
       "      <td>5H 4M 37S</td>\n",
       "      <td>W</td>\n",
       "      <td>9078.0</td>\n",
       "      <td>18246</td>\n",
       "      <td>18277</td>\n",
       "      <td>304.100000</td>\n",
       "    </tr>\n",
       "    <tr>\n",
       "      <th>26597</th>\n",
       "      <td>80+</td>\n",
       "      <td>25149</td>\n",
       "      <td>10615</td>\n",
       "      <td>2</td>\n",
       "      <td>Rigney, Hansi</td>\n",
       "      <td>Team–</td>\n",
       "      <td>24567</td>\n",
       "      <td>2H 33M 28S</td>\n",
       "      <td>5H 7M 42S</td>\n",
       "      <td>5H 7M 48S</td>\n",
       "      <td>W</td>\n",
       "      <td>9208.0</td>\n",
       "      <td>18462</td>\n",
       "      <td>18468</td>\n",
       "      <td>307.700000</td>\n",
       "    </tr>\n",
       "  </tbody>\n",
       "</table>\n",
       "<p>26598 rows × 15 columns</p>\n",
       "</div>"
      ],
      "text/plain": [
       "      age_group  place_overall  place_gender  place_division  \\\n",
       "0         18-39              1             1               1   \n",
       "1         18-39              2             2               2   \n",
       "2         18-39              3             3               3   \n",
       "3         18-39              4             4               4   \n",
       "4         18-39              5             5               5   \n",
       "...         ...            ...           ...             ...   \n",
       "26593     75-79          25856         10994               8   \n",
       "26594     75-79          26144         11158               9   \n",
       "26595     75-79          26203         11188              10   \n",
       "26596       80+          25010         10544               1   \n",
       "26597       80+          25149         10615               2   \n",
       "\n",
       "                      name   team bib_number   half_time  finish_net  \\\n",
       "0            Chebet, Evans  Team–          1   1H 2M 20S   2H 5M 54S   \n",
       "1            Geay, Gabriel  Team–          3   1H 2M 20S    2H 6M 4S   \n",
       "2          Kipruto, Benson  Team–          5   1H 2M 19S    2H 6M 6S   \n",
       "3            Korir, Albert  Team–         19   1H 2M 20S    2H 8M 1S   \n",
       "4           Talbi, Zouhair  Team–         31   1H 2M 20S   2H 8M 35S   \n",
       "...                    ...    ...        ...         ...         ...   \n",
       "26593         Bryan, T. J.  Team–      24573  2H 21M 27S  5H 28M 48S   \n",
       "26594          Hung, Patty  Team–      15933   2H 37M 0S  5H 40M 37S   \n",
       "26595  Tattersall, Theresa  Team–      24570  2H 41M 25S  5H 42M 59S   \n",
       "26596      Sabourin, Helen  Team–      24569  2H 31M 18S    5H 4M 6S   \n",
       "26597        Rigney, Hansi  Team–      24567  2H 33M 28S   5H 7M 42S   \n",
       "\n",
       "       finish_gun gender  half_time_sec  finish_net_sec  finish_gun_sec  \\\n",
       "0       2H 5M 54S      M         3740.0            7554            7554   \n",
       "1        2H 6M 4S      M         3740.0            7564            7564   \n",
       "2        2H 6M 6S      M         3739.0            7566            7566   \n",
       "3        2H 8M 1S      M         3740.0            7681            7681   \n",
       "4       2H 8M 35S      M         3740.0            7715            7715   \n",
       "...           ...    ...            ...             ...             ...   \n",
       "26593  5H 29M 29S      W         8487.0           19728           19769   \n",
       "26594  5H 40M 58S      W         9420.0           20437           20458   \n",
       "26595  5H 46M 38S      W         9685.0           20579           20798   \n",
       "26596   5H 4M 37S      W         9078.0           18246           18277   \n",
       "26597   5H 7M 48S      W         9208.0           18462           18468   \n",
       "\n",
       "       finish_net_minutes  \n",
       "0              125.900000  \n",
       "1              126.066667  \n",
       "2              126.100000  \n",
       "3              128.016667  \n",
       "4              128.583333  \n",
       "...                   ...  \n",
       "26593          328.800000  \n",
       "26594          340.616667  \n",
       "26595          342.983333  \n",
       "26596          304.100000  \n",
       "26597          307.700000  \n",
       "\n",
       "[26598 rows x 15 columns]"
      ]
     },
     "execution_count": 9,
     "metadata": {},
     "output_type": "execute_result"
    }
   ],
   "source": [
    "\n",
    "df = pd.read_csv('marathon_2023.csv')\n",
    "df"
   ]
  },
  {
   "cell_type": "code",
   "execution_count": 11,
   "id": "48c59e9d-74fa-4d9b-b133-7e575bdbc128",
   "metadata": {},
   "outputs": [
    {
     "data": {
      "text/plain": [
       "<bound method NDFrame.describe of       age_group  place_overall  place_gender  place_division  \\\n",
       "0         18-39              1             1               1   \n",
       "1         18-39              2             2               2   \n",
       "2         18-39              3             3               3   \n",
       "3         18-39              4             4               4   \n",
       "4         18-39              5             5               5   \n",
       "...         ...            ...           ...             ...   \n",
       "26593     75-79          25856         10994               8   \n",
       "26594     75-79          26144         11158               9   \n",
       "26595     75-79          26203         11188              10   \n",
       "26596       80+          25010         10544               1   \n",
       "26597       80+          25149         10615               2   \n",
       "\n",
       "                      name   team bib_number   half_time  finish_net  \\\n",
       "0            Chebet, Evans  Team–          1   1H 2M 20S   2H 5M 54S   \n",
       "1            Geay, Gabriel  Team–          3   1H 2M 20S    2H 6M 4S   \n",
       "2          Kipruto, Benson  Team–          5   1H 2M 19S    2H 6M 6S   \n",
       "3            Korir, Albert  Team–         19   1H 2M 20S    2H 8M 1S   \n",
       "4           Talbi, Zouhair  Team–         31   1H 2M 20S   2H 8M 35S   \n",
       "...                    ...    ...        ...         ...         ...   \n",
       "26593         Bryan, T. J.  Team–      24573  2H 21M 27S  5H 28M 48S   \n",
       "26594          Hung, Patty  Team–      15933   2H 37M 0S  5H 40M 37S   \n",
       "26595  Tattersall, Theresa  Team–      24570  2H 41M 25S  5H 42M 59S   \n",
       "26596      Sabourin, Helen  Team–      24569  2H 31M 18S    5H 4M 6S   \n",
       "26597        Rigney, Hansi  Team–      24567  2H 33M 28S   5H 7M 42S   \n",
       "\n",
       "       finish_gun gender  half_time_sec  finish_net_sec  finish_gun_sec  \\\n",
       "0       2H 5M 54S      M         3740.0            7554            7554   \n",
       "1        2H 6M 4S      M         3740.0            7564            7564   \n",
       "2        2H 6M 6S      M         3739.0            7566            7566   \n",
       "3        2H 8M 1S      M         3740.0            7681            7681   \n",
       "4       2H 8M 35S      M         3740.0            7715            7715   \n",
       "...           ...    ...            ...             ...             ...   \n",
       "26593  5H 29M 29S      W         8487.0           19728           19769   \n",
       "26594  5H 40M 58S      W         9420.0           20437           20458   \n",
       "26595  5H 46M 38S      W         9685.0           20579           20798   \n",
       "26596   5H 4M 37S      W         9078.0           18246           18277   \n",
       "26597   5H 7M 48S      W         9208.0           18462           18468   \n",
       "\n",
       "       finish_net_minutes  \n",
       "0              125.900000  \n",
       "1              126.066667  \n",
       "2              126.100000  \n",
       "3              128.016667  \n",
       "4              128.583333  \n",
       "...                   ...  \n",
       "26593          328.800000  \n",
       "26594          340.616667  \n",
       "26595          342.983333  \n",
       "26596          304.100000  \n",
       "26597          307.700000  \n",
       "\n",
       "[26598 rows x 15 columns]>"
      ]
     },
     "execution_count": 11,
     "metadata": {},
     "output_type": "execute_result"
    }
   ],
   "source": [
    "df.describe\n"
   ]
  },
  {
   "cell_type": "code",
   "execution_count": 13,
   "id": "e0b426c5-d214-453e-8f55-b1b63aa8d293",
   "metadata": {},
   "outputs": [
    {
     "name": "stdout",
     "output_type": "stream",
     "text": [
      "mean value of our data set:-6412.783646233884\n"
     ]
    }
   ],
   "source": [
    "mean_value=df['half_time_sec'].mean()\n",
    "print(f\"mean value of our data set:-{mean_value}\")"
   ]
  },
  {
   "cell_type": "code",
   "execution_count": 15,
   "id": "a9bf37f9-8d4e-4858-b50b-6107e0a1b5fe",
   "metadata": {},
   "outputs": [
    {
     "name": "stdout",
     "output_type": "stream",
     "text": [
      "median value of our data set:-6213.0\n"
     ]
    }
   ],
   "source": [
    "median_value=df['half_time_sec'].median()\n",
    "print(f\"median value of our data set:-{median_value}\")"
   ]
  },
  {
   "cell_type": "code",
   "execution_count": 17,
   "id": "caab505d-fe60-4f8c-9789-2571a23dcd08",
   "metadata": {},
   "outputs": [
    {
     "name": "stdout",
     "output_type": "stream",
     "text": [
      "mode value of our data set:-0    6174.0\n",
      "Name: half_time_sec, dtype: float64\n"
     ]
    }
   ],
   "source": [
    "mode_value=df['half_time_sec'].mode()\n",
    "print(f\"mode value of our data set:-{mode_value}\")"
   ]
  },
  {
   "cell_type": "code",
   "execution_count": 19,
   "id": "bebae1f6-a164-452e-8c71-dc3df9e3da02",
   "metadata": {},
   "outputs": [
    {
     "name": "stdout",
     "output_type": "stream",
     "text": [
      " variance value of our data set:-1334662.9266482901\n"
     ]
    }
   ],
   "source": [
    "var_value=df['half_time_sec'].var()\n",
    "print(f\" variance value of our data set:-{var_value}\")"
   ]
  },
  {
   "cell_type": "code",
   "execution_count": 21,
   "id": "57329e17-57dd-444f-8ed0-13ac9beccc65",
   "metadata": {},
   "outputs": [
    {
     "name": "stdout",
     "output_type": "stream",
     "text": [
      "standard deviation value of our data set:-1155.276125715532\n"
     ]
    }
   ],
   "source": [
    "std_value=df['half_time_sec'].std()\n",
    "print(f\"standard deviation value of our data set:-{std_value}\")"
   ]
  },
  {
   "cell_type": "code",
   "execution_count": 23,
   "id": "985cf406-af4f-4b64-97e4-46a77dd4dc58",
   "metadata": {},
   "outputs": [
    {
     "name": "stdout",
     "output_type": "stream",
     "text": [
      "kurotis value of our data set:-0.6272842847379665\n"
     ]
    }
   ],
   "source": [
    "kur_value=df['half_time_sec'].kurt()\n",
    "print(f\"kurotis value of our data set:-{kur_value}\")"
   ]
  },
  {
   "cell_type": "code",
   "execution_count": 25,
   "id": "b3de4827-c5b5-4872-8544-bf1a5edf7c8e",
   "metadata": {},
   "outputs": [
    {
     "data": {
      "image/png": "[encoded data removed]",
      "text/plain": [
       "<Figure size 640x480 with 1 Axes>"
      ]
     },
     "metadata": {},
     "output_type": "display_data"
    }
   ],
   "source": [
    "\n",
    "import matplotlib.pyplot as plt\n",
    "df['half_time_sec'].value_counts().plot(kind='bar', title= 'half time sec')\n",
    "plt.xlabel('half_time_sec')\n",
    "plt.ylabel('finish_net_sec')\n",
    "plt.show()"
   ]
  },
  {
   "cell_type": "code",
   "execution_count": null,
   "id": "4e00b0e1-cee4-4c3e-bf89-3de444dcc27c",
   "metadata": {},
   "outputs": [],
   "source": []
  },
  {
   "cell_type": "code",
   "execution_count": null,
   "id": "1d780656-6935-4a73-98bb-82552025a9c6",
   "metadata": {},
   "outputs": [],
   "source": []
  },
  {
   "cell_type": "code",
   "execution_count": null,
   "id": "e6c50c4c-e773-489c-acb5-9c42d7c8dc6a",
   "metadata": {},
   "outputs": [],
   "source": []
  },
  {
   "cell_type": "code",
   "execution_count": null,
   "id": "6676e771-2d6c-4d5f-a9f4-bd1224c1950a",
   "metadata": {},
   "outputs": [],
   "source": []
  },
  {
   "cell_type": "code",
   "execution_count": null,
   "id": "b089cd71-29d7-4a7c-b167-64e441801ec9",
   "metadata": {},
   "outputs": [],
   "source": []
  }
 ],
 "metadata": {
  "kernelspec": {
   "display_name": "Python 3 (ipykernel)",
   "language": "python",
   "name": "python3"
  },
  "language_info": {
   "codemirror_mode": {
    "name": "ipython",
    "version": 3
   },
   "file_extension": ".py",
   "mimetype": "text/x-python",
   "name": "python",
   "nbconvert_exporter": "python",
   "pygments_lexer": "ipython3",
   "version": "3.12.4"
  }
 },
 "nbformat": 4,
 "nbformat_minor": 5
}
